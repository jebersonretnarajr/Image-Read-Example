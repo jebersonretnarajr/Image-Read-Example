{
  "nbformat": 4,
  "nbformat_minor": 0,
  "metadata": {
    "colab": {
      "name": "Untitled47.ipynb",
      "provenance": [],
      "include_colab_link": true
    },
    "kernelspec": {
      "name": "python3",
      "display_name": "Python 3"
    },
    "accelerator": "GPU"
  },
  "cells": [
    {
      "cell_type": "markdown",
      "metadata": {
        "id": "view-in-github",
        "colab_type": "text"
      },
      "source": [
        "<a href=\"https://colab.research.google.com/github/mohanrajmit/Image-Read/blob/master/NeualNetworks_pima.ipynb\" target=\"_parent\"><img src=\"https://colab.research.google.com/assets/colab-badge.svg\" alt=\"Open In Colab\"/></a>"
      ]
    },
    {
      "cell_type": "code",
      "metadata": {
        "id": "x6Dx0WExvsvG",
        "colab_type": "code",
        "colab": {
          "base_uri": "https://localhost:8080/",
          "height": 34
        },
        "outputId": "fe12f49f-686a-4d2f-db03-c2141015ede3"
      },
      "source": [
        "from keras.models import Sequential\n",
        "from keras.layers import Dense\n",
        "import numpy"
      ],
      "execution_count": 1,
      "outputs": [
        {
          "output_type": "stream",
          "text": [
            "Using TensorFlow backend.\n"
          ],
          "name": "stderr"
        }
      ]
    },
    {
      "cell_type": "code",
      "metadata": {
        "id": "ToPr6CGcwA7t",
        "colab_type": "code",
        "colab": {}
      },
      "source": [
        "# fix random seed for reproducibility\n",
        "seed = 7\n",
        "numpy.random.seed(seed)\n",
        "# load pima indians dataset\n",
        "dataset = numpy.loadtxt(\"/content/pima-indians-diabetes.csv\", delimiter=\",\")\n",
        "# split into input (X) and output (Y) variables\n",
        "X = dataset[:,0:8]\n",
        "Y = dataset[:,8]"
      ],
      "execution_count": 0,
      "outputs": []
    },
    {
      "cell_type": "markdown",
      "metadata": {
        "id": "cTGz83SSwCCL",
        "colab_type": "text"
      },
      "source": [
        "#pima indian dataset\n"
      ]
    },
    {
      "cell_type": "code",
      "metadata": {
        "id": "ICmWK70QwFVN",
        "colab_type": "code",
        "colab": {
          "base_uri": "https://localhost:8080/",
          "height": 248
        },
        "outputId": "757a093c-4276-4624-f9d7-b0ce9a8e08c1"
      },
      "source": [
        "# create model\n",
        "model = Sequential()\n",
        "model.add(Dense(12, input_dim=8, init='uniform', activation='relu'))\n",
        "model.add(Dense(8, init='uniform', activation='relu'))\n",
        "model.add(Dense(1, init='uniform', activation='sigmoid'))\n",
        "# Compile model"
      ],
      "execution_count": 5,
      "outputs": [
        {
          "output_type": "stream",
          "text": [
            "WARNING:tensorflow:From /usr/local/lib/python3.6/dist-packages/keras/backend/tensorflow_backend.py:66: The name tf.get_default_graph is deprecated. Please use tf.compat.v1.get_default_graph instead.\n",
            "\n",
            "WARNING:tensorflow:From /usr/local/lib/python3.6/dist-packages/keras/backend/tensorflow_backend.py:541: The name tf.placeholder is deprecated. Please use tf.compat.v1.placeholder instead.\n",
            "\n",
            "WARNING:tensorflow:From /usr/local/lib/python3.6/dist-packages/keras/backend/tensorflow_backend.py:4432: The name tf.random_uniform is deprecated. Please use tf.random.uniform instead.\n",
            "\n"
          ],
          "name": "stdout"
        },
        {
          "output_type": "stream",
          "text": [
            "/usr/local/lib/python3.6/dist-packages/ipykernel_launcher.py:2: UserWarning: Update your `Dense` call to the Keras 2 API: `Dense(12, input_dim=8, activation=\"relu\", kernel_initializer=\"uniform\")`\n",
            "  \n",
            "/usr/local/lib/python3.6/dist-packages/ipykernel_launcher.py:3: UserWarning: Update your `Dense` call to the Keras 2 API: `Dense(8, activation=\"relu\", kernel_initializer=\"uniform\")`\n",
            "  This is separate from the ipykernel package so we can avoid doing imports until\n",
            "/usr/local/lib/python3.6/dist-packages/ipykernel_launcher.py:4: UserWarning: Update your `Dense` call to the Keras 2 API: `Dense(1, activation=\"sigmoid\", kernel_initializer=\"uniform\")`\n",
            "  after removing the cwd from sys.path.\n"
          ],
          "name": "stderr"
        }
      ]
    },
    {
      "cell_type": "code",
      "metadata": {
        "id": "RewK5Qe6wRSQ",
        "colab_type": "code",
        "colab": {
          "base_uri": "https://localhost:8080/",
          "height": 160
        },
        "outputId": "0f23faa4-0c60-446f-ab80-dc24d02885bb"
      },
      "source": [
        "model.compile(loss='binary_crossentropy', optimizer='adam', metrics=['accuracy'])\n"
      ],
      "execution_count": 6,
      "outputs": [
        {
          "output_type": "stream",
          "text": [
            "WARNING:tensorflow:From /usr/local/lib/python3.6/dist-packages/keras/optimizers.py:793: The name tf.train.Optimizer is deprecated. Please use tf.compat.v1.train.Optimizer instead.\n",
            "\n",
            "WARNING:tensorflow:From /usr/local/lib/python3.6/dist-packages/keras/backend/tensorflow_backend.py:3657: The name tf.log is deprecated. Please use tf.math.log instead.\n",
            "\n",
            "WARNING:tensorflow:From /usr/local/lib/python3.6/dist-packages/tensorflow/python/ops/nn_impl.py:180: add_dispatch_support.<locals>.wrapper (from tensorflow.python.ops.array_ops) is deprecated and will be removed in a future version.\n",
            "Instructions for updating:\n",
            "Use tf.where in 2.0, which has the same broadcast rule as np.where\n"
          ],
          "name": "stdout"
        }
      ]
    },
    {
      "cell_type": "code",
      "metadata": {
        "id": "M3yzz9HlwUTl",
        "colab_type": "code",
        "colab": {
          "base_uri": "https://localhost:8080/",
          "height": 263
        },
        "outputId": "99d9ee6e-7565-4100-ee87-ebfe61d2b7db"
      },
      "source": [
        "model.summary()"
      ],
      "execution_count": 7,
      "outputs": [
        {
          "output_type": "stream",
          "text": [
            "Model: \"sequential_1\"\n",
            "_________________________________________________________________\n",
            "Layer (type)                 Output Shape              Param #   \n",
            "=================================================================\n",
            "dense_1 (Dense)              (None, 12)                108       \n",
            "_________________________________________________________________\n",
            "dense_2 (Dense)              (None, 8)                 104       \n",
            "_________________________________________________________________\n",
            "dense_3 (Dense)              (None, 1)                 9         \n",
            "=================================================================\n",
            "Total params: 221\n",
            "Trainable params: 221\n",
            "Non-trainable params: 0\n",
            "_________________________________________________________________\n"
          ],
          "name": "stdout"
        }
      ]
    },
    {
      "cell_type": "code",
      "metadata": {
        "id": "FO2flHhEwV7k",
        "colab_type": "code",
        "colab": {
          "base_uri": "https://localhost:8080/",
          "height": 1000
        },
        "outputId": "35bcef2e-c466-4ad5-a44f-325fdc975d4b"
      },
      "source": [
        "# Fit the model\n",
        "model.fit(X, Y, nb_epoch=150, batch_size=10)\n"
      ],
      "execution_count": 8,
      "outputs": [
        {
          "output_type": "stream",
          "text": [
            "/usr/local/lib/python3.6/dist-packages/ipykernel_launcher.py:1: UserWarning: The `nb_epoch` argument in `fit` has been renamed `epochs`.\n",
            "  \"\"\"Entry point for launching an IPython kernel.\n"
          ],
          "name": "stderr"
        },
        {
          "output_type": "stream",
          "text": [
            "WARNING:tensorflow:From /usr/local/lib/python3.6/dist-packages/keras/backend/tensorflow_backend.py:1033: The name tf.assign_add is deprecated. Please use tf.compat.v1.assign_add instead.\n",
            "\n",
            "Epoch 1/150\n",
            "768/768 [==============================] - 5s 6ms/step - loss: 0.6771 - acc: 0.6510\n",
            "Epoch 2/150\n",
            "768/768 [==============================] - 0s 436us/step - loss: 0.6585 - acc: 0.6510\n",
            "Epoch 3/150\n",
            "768/768 [==============================] - 0s 448us/step - loss: 0.6469 - acc: 0.6510\n",
            "Epoch 4/150\n",
            "768/768 [==============================] - 0s 451us/step - loss: 0.6393 - acc: 0.6510\n",
            "Epoch 5/150\n",
            "768/768 [==============================] - 0s 442us/step - loss: 0.6324 - acc: 0.6510\n",
            "Epoch 6/150\n",
            "768/768 [==============================] - 0s 443us/step - loss: 0.6188 - acc: 0.6510\n",
            "Epoch 7/150\n",
            "768/768 [==============================] - 0s 452us/step - loss: 0.6190 - acc: 0.6510\n",
            "Epoch 8/150\n",
            "768/768 [==============================] - 0s 452us/step - loss: 0.6124 - acc: 0.6510\n",
            "Epoch 9/150\n",
            "768/768 [==============================] - 0s 451us/step - loss: 0.6083 - acc: 0.6510\n",
            "Epoch 10/150\n",
            "768/768 [==============================] - 0s 471us/step - loss: 0.6168 - acc: 0.6510\n",
            "Epoch 11/150\n",
            "768/768 [==============================] - 0s 408us/step - loss: 0.6062 - acc: 0.6510\n",
            "Epoch 12/150\n",
            "768/768 [==============================] - 0s 430us/step - loss: 0.6035 - acc: 0.6510\n",
            "Epoch 13/150\n",
            "768/768 [==============================] - 0s 429us/step - loss: 0.6000 - acc: 0.6510\n",
            "Epoch 14/150\n",
            "768/768 [==============================] - 0s 449us/step - loss: 0.6030 - acc: 0.6510\n",
            "Epoch 15/150\n",
            "768/768 [==============================] - 0s 434us/step - loss: 0.5996 - acc: 0.6510\n",
            "Epoch 16/150\n",
            "768/768 [==============================] - 0s 527us/step - loss: 0.6000 - acc: 0.6510\n",
            "Epoch 17/150\n",
            "768/768 [==============================] - 0s 526us/step - loss: 0.5990 - acc: 0.6510\n",
            "Epoch 18/150\n",
            "768/768 [==============================] - 0s 509us/step - loss: 0.6007 - acc: 0.6510\n",
            "Epoch 19/150\n",
            "768/768 [==============================] - 0s 453us/step - loss: 0.5976 - acc: 0.6510\n",
            "Epoch 20/150\n",
            "768/768 [==============================] - 0s 452us/step - loss: 0.6000 - acc: 0.6510\n",
            "Epoch 21/150\n",
            "768/768 [==============================] - 0s 479us/step - loss: 0.5953 - acc: 0.6510\n",
            "Epoch 22/150\n",
            "768/768 [==============================] - 0s 474us/step - loss: 0.5940 - acc: 0.6510\n",
            "Epoch 23/150\n",
            "768/768 [==============================] - 0s 469us/step - loss: 0.5933 - acc: 0.6510\n",
            "Epoch 24/150\n",
            "768/768 [==============================] - 0s 451us/step - loss: 0.5999 - acc: 0.6510\n",
            "Epoch 25/150\n",
            "768/768 [==============================] - 0s 450us/step - loss: 0.5919 - acc: 0.6510\n",
            "Epoch 26/150\n",
            "768/768 [==============================] - 0s 502us/step - loss: 0.5984 - acc: 0.6510\n",
            "Epoch 27/150\n",
            "768/768 [==============================] - 0s 443us/step - loss: 0.5955 - acc: 0.6510\n",
            "Epoch 28/150\n",
            "768/768 [==============================] - 0s 456us/step - loss: 0.5905 - acc: 0.6510\n",
            "Epoch 29/150\n",
            "768/768 [==============================] - 0s 533us/step - loss: 0.5950 - acc: 0.6510\n",
            "Epoch 30/150\n",
            "768/768 [==============================] - 0s 445us/step - loss: 0.5911 - acc: 0.6510\n",
            "Epoch 31/150\n",
            "768/768 [==============================] - 0s 407us/step - loss: 0.5902 - acc: 0.6510\n",
            "Epoch 32/150\n",
            "768/768 [==============================] - 0s 471us/step - loss: 0.5885 - acc: 0.6992\n",
            "Epoch 33/150\n",
            "768/768 [==============================] - 0s 456us/step - loss: 0.5796 - acc: 0.6901\n",
            "Epoch 34/150\n",
            "768/768 [==============================] - 0s 434us/step - loss: 0.5808 - acc: 0.6992\n",
            "Epoch 35/150\n",
            "768/768 [==============================] - 0s 465us/step - loss: 0.5797 - acc: 0.7122\n",
            "Epoch 36/150\n",
            "768/768 [==============================] - 0s 454us/step - loss: 0.5726 - acc: 0.7005\n",
            "Epoch 37/150\n",
            "768/768 [==============================] - 0s 433us/step - loss: 0.5688 - acc: 0.7005\n",
            "Epoch 38/150\n",
            "768/768 [==============================] - 0s 482us/step - loss: 0.5759 - acc: 0.6992\n",
            "Epoch 39/150\n",
            "768/768 [==============================] - 0s 474us/step - loss: 0.5736 - acc: 0.6979\n",
            "Epoch 40/150\n",
            "768/768 [==============================] - 0s 445us/step - loss: 0.5736 - acc: 0.7096\n",
            "Epoch 41/150\n",
            "768/768 [==============================] - 0s 430us/step - loss: 0.5680 - acc: 0.7070\n",
            "Epoch 42/150\n",
            "768/768 [==============================] - 0s 440us/step - loss: 0.5665 - acc: 0.7057\n",
            "Epoch 43/150\n",
            "768/768 [==============================] - 0s 438us/step - loss: 0.5624 - acc: 0.7187\n",
            "Epoch 44/150\n",
            "768/768 [==============================] - 0s 505us/step - loss: 0.5677 - acc: 0.7174\n",
            "Epoch 45/150\n",
            "768/768 [==============================] - 0s 553us/step - loss: 0.5622 - acc: 0.7135\n",
            "Epoch 46/150\n",
            "768/768 [==============================] - 0s 497us/step - loss: 0.5589 - acc: 0.7031\n",
            "Epoch 47/150\n",
            "768/768 [==============================] - 0s 447us/step - loss: 0.5566 - acc: 0.7214\n",
            "Epoch 48/150\n",
            "768/768 [==============================] - 0s 439us/step - loss: 0.5559 - acc: 0.7083\n",
            "Epoch 49/150\n",
            "768/768 [==============================] - 0s 431us/step - loss: 0.5515 - acc: 0.7135\n",
            "Epoch 50/150\n",
            "768/768 [==============================] - 0s 428us/step - loss: 0.5525 - acc: 0.7109\n",
            "Epoch 51/150\n",
            "768/768 [==============================] - 0s 434us/step - loss: 0.5525 - acc: 0.7122\n",
            "Epoch 52/150\n",
            "768/768 [==============================] - 0s 503us/step - loss: 0.5546 - acc: 0.7070\n",
            "Epoch 53/150\n",
            "768/768 [==============================] - 0s 462us/step - loss: 0.5484 - acc: 0.7044\n",
            "Epoch 54/150\n",
            "768/768 [==============================] - 0s 446us/step - loss: 0.5493 - acc: 0.7161\n",
            "Epoch 55/150\n",
            "768/768 [==============================] - 0s 430us/step - loss: 0.5489 - acc: 0.7161\n",
            "Epoch 56/150\n",
            "768/768 [==============================] - 0s 476us/step - loss: 0.5469 - acc: 0.7253\n",
            "Epoch 57/150\n",
            "768/768 [==============================] - 0s 433us/step - loss: 0.5435 - acc: 0.7161\n",
            "Epoch 58/150\n",
            "768/768 [==============================] - 0s 447us/step - loss: 0.5451 - acc: 0.7161\n",
            "Epoch 59/150\n",
            "768/768 [==============================] - 0s 460us/step - loss: 0.5389 - acc: 0.7279\n",
            "Epoch 60/150\n",
            "768/768 [==============================] - 0s 441us/step - loss: 0.5423 - acc: 0.7161\n",
            "Epoch 61/150\n",
            "768/768 [==============================] - 0s 425us/step - loss: 0.5369 - acc: 0.7240\n",
            "Epoch 62/150\n",
            "768/768 [==============================] - 0s 450us/step - loss: 0.5393 - acc: 0.7201\n",
            "Epoch 63/150\n",
            "768/768 [==============================] - 0s 477us/step - loss: 0.5427 - acc: 0.7331\n",
            "Epoch 64/150\n",
            "768/768 [==============================] - 0s 455us/step - loss: 0.5397 - acc: 0.7227\n",
            "Epoch 65/150\n",
            "768/768 [==============================] - 0s 456us/step - loss: 0.5333 - acc: 0.7253\n",
            "Epoch 66/150\n",
            "768/768 [==============================] - 0s 475us/step - loss: 0.5321 - acc: 0.7253\n",
            "Epoch 67/150\n",
            "768/768 [==============================] - 0s 452us/step - loss: 0.5283 - acc: 0.7253\n",
            "Epoch 68/150\n",
            "768/768 [==============================] - 0s 608us/step - loss: 0.5331 - acc: 0.7188\n",
            "Epoch 69/150\n",
            "768/768 [==============================] - 0s 485us/step - loss: 0.5278 - acc: 0.7422\n",
            "Epoch 70/150\n",
            "768/768 [==============================] - 0s 440us/step - loss: 0.5324 - acc: 0.7279\n",
            "Epoch 71/150\n",
            "768/768 [==============================] - 0s 436us/step - loss: 0.5283 - acc: 0.7344\n",
            "Epoch 72/150\n",
            "768/768 [==============================] - 0s 435us/step - loss: 0.5318 - acc: 0.7422\n",
            "Epoch 73/150\n",
            "768/768 [==============================] - 0s 423us/step - loss: 0.5228 - acc: 0.7279\n",
            "Epoch 74/150\n",
            "768/768 [==============================] - 0s 481us/step - loss: 0.5273 - acc: 0.7227\n",
            "Epoch 75/150\n",
            "768/768 [==============================] - 0s 435us/step - loss: 0.5202 - acc: 0.7422\n",
            "Epoch 76/150\n",
            "768/768 [==============================] - 0s 451us/step - loss: 0.5203 - acc: 0.7487\n",
            "Epoch 77/150\n",
            "768/768 [==============================] - 0s 433us/step - loss: 0.5184 - acc: 0.7344\n",
            "Epoch 78/150\n",
            "768/768 [==============================] - 0s 432us/step - loss: 0.5173 - acc: 0.7422\n",
            "Epoch 79/150\n",
            "768/768 [==============================] - 0s 417us/step - loss: 0.5252 - acc: 0.7279\n",
            "Epoch 80/150\n",
            "768/768 [==============================] - 0s 445us/step - loss: 0.5157 - acc: 0.7474\n",
            "Epoch 81/150\n",
            "768/768 [==============================] - 0s 541us/step - loss: 0.5163 - acc: 0.7357\n",
            "Epoch 82/150\n",
            "768/768 [==============================] - 0s 590us/step - loss: 0.5151 - acc: 0.7474\n",
            "Epoch 83/150\n",
            "768/768 [==============================] - 0s 437us/step - loss: 0.5106 - acc: 0.7513\n",
            "Epoch 84/150\n",
            "768/768 [==============================] - 0s 433us/step - loss: 0.5096 - acc: 0.7591\n",
            "Epoch 85/150\n",
            "768/768 [==============================] - 0s 435us/step - loss: 0.5167 - acc: 0.7539\n",
            "Epoch 86/150\n",
            "768/768 [==============================] - 0s 474us/step - loss: 0.5133 - acc: 0.7474\n",
            "Epoch 87/150\n",
            "768/768 [==============================] - 0s 428us/step - loss: 0.5133 - acc: 0.7526\n",
            "Epoch 88/150\n",
            "768/768 [==============================] - 0s 444us/step - loss: 0.5058 - acc: 0.7461\n",
            "Epoch 89/150\n",
            "768/768 [==============================] - 0s 473us/step - loss: 0.5185 - acc: 0.7617\n",
            "Epoch 90/150\n",
            "768/768 [==============================] - 0s 497us/step - loss: 0.5038 - acc: 0.7604\n",
            "Epoch 91/150\n",
            "768/768 [==============================] - 0s 481us/step - loss: 0.5039 - acc: 0.7539\n",
            "Epoch 92/150\n",
            "768/768 [==============================] - 0s 464us/step - loss: 0.5061 - acc: 0.7526\n",
            "Epoch 93/150\n",
            "768/768 [==============================] - 0s 444us/step - loss: 0.5016 - acc: 0.7604\n",
            "Epoch 94/150\n",
            "768/768 [==============================] - 0s 444us/step - loss: 0.5035 - acc: 0.7526\n",
            "Epoch 95/150\n",
            "768/768 [==============================] - 0s 408us/step - loss: 0.4995 - acc: 0.7526\n",
            "Epoch 96/150\n",
            "768/768 [==============================] - 0s 422us/step - loss: 0.5003 - acc: 0.7695\n",
            "Epoch 97/150\n",
            "768/768 [==============================] - 0s 490us/step - loss: 0.4965 - acc: 0.7630\n",
            "Epoch 98/150\n",
            "768/768 [==============================] - 0s 447us/step - loss: 0.4935 - acc: 0.7734\n",
            "Epoch 99/150\n",
            "768/768 [==============================] - 0s 444us/step - loss: 0.4922 - acc: 0.7708\n",
            "Epoch 100/150\n",
            "768/768 [==============================] - 0s 451us/step - loss: 0.4911 - acc: 0.7604\n",
            "Epoch 101/150\n",
            "768/768 [==============================] - 0s 458us/step - loss: 0.4915 - acc: 0.7734\n",
            "Epoch 102/150\n",
            "768/768 [==============================] - 0s 441us/step - loss: 0.4923 - acc: 0.7695\n",
            "Epoch 103/150\n",
            "768/768 [==============================] - 0s 444us/step - loss: 0.5010 - acc: 0.7617\n",
            "Epoch 104/150\n",
            "768/768 [==============================] - 0s 469us/step - loss: 0.4970 - acc: 0.7760\n",
            "Epoch 105/150\n",
            "768/768 [==============================] - 0s 438us/step - loss: 0.5092 - acc: 0.7565\n",
            "Epoch 106/150\n",
            "768/768 [==============================] - 0s 432us/step - loss: 0.4914 - acc: 0.7565\n",
            "Epoch 107/150\n",
            "768/768 [==============================] - 0s 438us/step - loss: 0.4925 - acc: 0.7786\n",
            "Epoch 108/150\n",
            "768/768 [==============================] - 0s 420us/step - loss: 0.4924 - acc: 0.7578\n",
            "Epoch 109/150\n",
            "768/768 [==============================] - 0s 478us/step - loss: 0.4871 - acc: 0.7617\n",
            "Epoch 110/150\n",
            "768/768 [==============================] - 0s 428us/step - loss: 0.4884 - acc: 0.7565\n",
            "Epoch 111/150\n",
            "768/768 [==============================] - 0s 431us/step - loss: 0.4907 - acc: 0.7708\n",
            "Epoch 112/150\n",
            "768/768 [==============================] - 0s 447us/step - loss: 0.4838 - acc: 0.7617\n",
            "Epoch 113/150\n",
            "768/768 [==============================] - 0s 462us/step - loss: 0.4853 - acc: 0.7747\n",
            "Epoch 114/150\n",
            "768/768 [==============================] - 0s 438us/step - loss: 0.4914 - acc: 0.7591\n",
            "Epoch 115/150\n",
            "768/768 [==============================] - 0s 440us/step - loss: 0.4835 - acc: 0.7669\n",
            "Epoch 116/150\n",
            "768/768 [==============================] - 0s 427us/step - loss: 0.4870 - acc: 0.7682\n",
            "Epoch 117/150\n",
            "768/768 [==============================] - 0s 422us/step - loss: 0.4847 - acc: 0.7734\n",
            "Epoch 118/150\n",
            "768/768 [==============================] - 0s 469us/step - loss: 0.4852 - acc: 0.7721\n",
            "Epoch 119/150\n",
            "768/768 [==============================] - 0s 441us/step - loss: 0.4794 - acc: 0.7682\n",
            "Epoch 120/150\n",
            "768/768 [==============================] - 0s 440us/step - loss: 0.4820 - acc: 0.7643\n",
            "Epoch 121/150\n",
            "768/768 [==============================] - 0s 463us/step - loss: 0.4887 - acc: 0.7812\n",
            "Epoch 122/150\n",
            "768/768 [==============================] - 0s 443us/step - loss: 0.4843 - acc: 0.7734\n",
            "Epoch 123/150\n",
            "768/768 [==============================] - 0s 428us/step - loss: 0.4792 - acc: 0.7721\n",
            "Epoch 124/150\n",
            "768/768 [==============================] - 0s 456us/step - loss: 0.4726 - acc: 0.7917\n",
            "Epoch 125/150\n",
            "768/768 [==============================] - 0s 400us/step - loss: 0.4815 - acc: 0.7747\n",
            "Epoch 126/150\n",
            "768/768 [==============================] - 0s 472us/step - loss: 0.4766 - acc: 0.7708\n",
            "Epoch 127/150\n",
            "768/768 [==============================] - 0s 449us/step - loss: 0.4810 - acc: 0.7643\n",
            "Epoch 128/150\n",
            "768/768 [==============================] - 0s 459us/step - loss: 0.4705 - acc: 0.7721\n",
            "Epoch 129/150\n",
            "768/768 [==============================] - 0s 448us/step - loss: 0.4836 - acc: 0.7721\n",
            "Epoch 130/150\n",
            "768/768 [==============================] - 0s 547us/step - loss: 0.4753 - acc: 0.7786\n",
            "Epoch 131/150\n",
            "768/768 [==============================] - 0s 534us/step - loss: 0.4780 - acc: 0.7708\n",
            "Epoch 132/150\n",
            "768/768 [==============================] - 0s 473us/step - loss: 0.4729 - acc: 0.7773\n",
            "Epoch 133/150\n",
            "768/768 [==============================] - 0s 438us/step - loss: 0.4848 - acc: 0.7552\n",
            "Epoch 134/150\n",
            "768/768 [==============================] - 0s 450us/step - loss: 0.4790 - acc: 0.7695\n",
            "Epoch 135/150\n",
            "768/768 [==============================] - 0s 487us/step - loss: 0.4738 - acc: 0.7643\n",
            "Epoch 136/150\n",
            "768/768 [==============================] - 0s 449us/step - loss: 0.4704 - acc: 0.7669\n",
            "Epoch 137/150\n",
            "768/768 [==============================] - 0s 474us/step - loss: 0.4656 - acc: 0.7839\n",
            "Epoch 138/150\n",
            "768/768 [==============================] - 0s 447us/step - loss: 0.4737 - acc: 0.7813\n",
            "Epoch 139/150\n",
            "768/768 [==============================] - 0s 428us/step - loss: 0.4614 - acc: 0.7839\n",
            "Epoch 140/150\n",
            "768/768 [==============================] - 0s 422us/step - loss: 0.4724 - acc: 0.7773\n",
            "Epoch 141/150\n",
            "768/768 [==============================] - 0s 433us/step - loss: 0.4639 - acc: 0.7708\n",
            "Epoch 142/150\n",
            "768/768 [==============================] - 0s 529us/step - loss: 0.4719 - acc: 0.7760\n",
            "Epoch 143/150\n",
            "768/768 [==============================] - 0s 523us/step - loss: 0.4708 - acc: 0.7695\n",
            "Epoch 144/150\n",
            "768/768 [==============================] - 0s 464us/step - loss: 0.4659 - acc: 0.7747\n",
            "Epoch 145/150\n",
            "768/768 [==============================] - 0s 432us/step - loss: 0.4733 - acc: 0.7708\n",
            "Epoch 146/150\n",
            "768/768 [==============================] - 0s 474us/step - loss: 0.4669 - acc: 0.7852\n",
            "Epoch 147/150\n",
            "768/768 [==============================] - 0s 446us/step - loss: 0.4708 - acc: 0.7682\n",
            "Epoch 148/150\n",
            "768/768 [==============================] - 0s 433us/step - loss: 0.4663 - acc: 0.7786\n",
            "Epoch 149/150\n",
            "768/768 [==============================] - 0s 424us/step - loss: 0.4647 - acc: 0.7773\n",
            "Epoch 150/150\n",
            "768/768 [==============================] - 0s 448us/step - loss: 0.4619 - acc: 0.7721\n"
          ],
          "name": "stdout"
        },
        {
          "output_type": "execute_result",
          "data": {
            "text/plain": [
              "<keras.callbacks.History at 0x7f29f7ebc8d0>"
            ]
          },
          "metadata": {
            "tags": []
          },
          "execution_count": 8
        }
      ]
    },
    {
      "cell_type": "code",
      "metadata": {
        "id": "GJyy8iy5waN2",
        "colab_type": "code",
        "colab": {
          "base_uri": "https://localhost:8080/",
          "height": 52
        },
        "outputId": "06fc493a-682b-4a5c-94ec-fd686820dab2"
      },
      "source": [
        "# evaluate the model\n",
        "scores = model.evaluate(X, Y)\n",
        "print(\"%s: %.2f%%\" % (model.metrics_names[1], scores[1]*100))"
      ],
      "execution_count": 9,
      "outputs": [
        {
          "output_type": "stream",
          "text": [
            "768/768 [==============================] - 0s 94us/step\n",
            "acc: 77.47%\n"
          ],
          "name": "stdout"
        }
      ]
    },
    {
      "cell_type": "code",
      "metadata": {
        "id": "p9XeNsOVxZXQ",
        "colab_type": "code",
        "colab": {}
      },
      "source": [
        ""
      ],
      "execution_count": 0,
      "outputs": []
    }
  ]
}